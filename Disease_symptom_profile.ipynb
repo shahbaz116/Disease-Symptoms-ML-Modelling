{
 "cells": [
  {
   "cell_type": "code",
   "execution_count": 1,
   "id": "1c9722e5-03d3-4dd6-8054-2e206b01d473",
   "metadata": {},
   "outputs": [],
   "source": [
    "# Import libraries\n",
    "\n",
    "import numpy as np\n",
    "import pandas as pd\n",
    "import matplotlib.pyplot as plt\n",
    "import seaborn as sns\n",
    "from sklearn.model_selection import train_test_split, GridSearchCV\n",
    "from sklearn.ensemble import RandomForestClassifier\n",
    "from sklearn.preprocessing import LabelEncoder\n",
    "from sklearn.metrics import accuracy_score, classification_report\n",
    "from sklearn.preprocessing import MinMaxScaler,StandardScaler\n",
    "\n"
   ]
  },
  {
   "cell_type": "code",
   "execution_count": 2,
   "id": "34d1c2c4-76ec-46f9-9b26-0dad6a375107",
   "metadata": {},
   "outputs": [],
   "source": [
    "# Load the dataset\n",
    "file_path = \"Disease_symptom_and_patient_profile_dataset.csv\"\n",
    "df = pd.read_csv(file_path)\n",
    "\n",
    "\n"
   ]
  },
  {
   "cell_type": "code",
   "execution_count": 3,
   "id": "6ce45c06-0777-4eb0-b5ac-7560e2e9318f",
   "metadata": {},
   "outputs": [
    {
     "data": {
      "text/html": [
       "<div>\n",
       "<style scoped>\n",
       "    .dataframe tbody tr th:only-of-type {\n",
       "        vertical-align: middle;\n",
       "    }\n",
       "\n",
       "    .dataframe tbody tr th {\n",
       "        vertical-align: top;\n",
       "    }\n",
       "\n",
       "    .dataframe thead th {\n",
       "        text-align: right;\n",
       "    }\n",
       "</style>\n",
       "<table border=\"1\" class=\"dataframe\">\n",
       "  <thead>\n",
       "    <tr style=\"text-align: right;\">\n",
       "      <th></th>\n",
       "      <th>Disease</th>\n",
       "      <th>Fever</th>\n",
       "      <th>Cough</th>\n",
       "      <th>Fatigue</th>\n",
       "      <th>Difficulty Breathing</th>\n",
       "      <th>Age</th>\n",
       "      <th>Gender</th>\n",
       "      <th>Blood Pressure</th>\n",
       "      <th>Cholesterol Level</th>\n",
       "      <th>Outcome Variable</th>\n",
       "    </tr>\n",
       "  </thead>\n",
       "  <tbody>\n",
       "    <tr>\n",
       "      <th>0</th>\n",
       "      <td>Influenza</td>\n",
       "      <td>Yes</td>\n",
       "      <td>No</td>\n",
       "      <td>Yes</td>\n",
       "      <td>Yes</td>\n",
       "      <td>19</td>\n",
       "      <td>Female</td>\n",
       "      <td>Low</td>\n",
       "      <td>Normal</td>\n",
       "      <td>Positive</td>\n",
       "    </tr>\n",
       "    <tr>\n",
       "      <th>1</th>\n",
       "      <td>Common Cold</td>\n",
       "      <td>No</td>\n",
       "      <td>Yes</td>\n",
       "      <td>Yes</td>\n",
       "      <td>No</td>\n",
       "      <td>25</td>\n",
       "      <td>Female</td>\n",
       "      <td>Normal</td>\n",
       "      <td>Normal</td>\n",
       "      <td>Negative</td>\n",
       "    </tr>\n",
       "    <tr>\n",
       "      <th>2</th>\n",
       "      <td>Eczema</td>\n",
       "      <td>No</td>\n",
       "      <td>Yes</td>\n",
       "      <td>Yes</td>\n",
       "      <td>No</td>\n",
       "      <td>25</td>\n",
       "      <td>Female</td>\n",
       "      <td>Normal</td>\n",
       "      <td>Normal</td>\n",
       "      <td>Negative</td>\n",
       "    </tr>\n",
       "    <tr>\n",
       "      <th>3</th>\n",
       "      <td>Asthma</td>\n",
       "      <td>Yes</td>\n",
       "      <td>Yes</td>\n",
       "      <td>No</td>\n",
       "      <td>Yes</td>\n",
       "      <td>25</td>\n",
       "      <td>Male</td>\n",
       "      <td>Normal</td>\n",
       "      <td>Normal</td>\n",
       "      <td>Positive</td>\n",
       "    </tr>\n",
       "    <tr>\n",
       "      <th>4</th>\n",
       "      <td>Asthma</td>\n",
       "      <td>Yes</td>\n",
       "      <td>Yes</td>\n",
       "      <td>No</td>\n",
       "      <td>Yes</td>\n",
       "      <td>25</td>\n",
       "      <td>Male</td>\n",
       "      <td>Normal</td>\n",
       "      <td>Normal</td>\n",
       "      <td>Positive</td>\n",
       "    </tr>\n",
       "  </tbody>\n",
       "</table>\n",
       "</div>"
      ],
      "text/plain": [
       "       Disease Fever Cough Fatigue Difficulty Breathing  Age  Gender  \\\n",
       "0    Influenza   Yes    No     Yes                  Yes   19  Female   \n",
       "1  Common Cold    No   Yes     Yes                   No   25  Female   \n",
       "2       Eczema    No   Yes     Yes                   No   25  Female   \n",
       "3       Asthma   Yes   Yes      No                  Yes   25    Male   \n",
       "4       Asthma   Yes   Yes      No                  Yes   25    Male   \n",
       "\n",
       "  Blood Pressure Cholesterol Level Outcome Variable  \n",
       "0            Low            Normal         Positive  \n",
       "1         Normal            Normal         Negative  \n",
       "2         Normal            Normal         Negative  \n",
       "3         Normal            Normal         Positive  \n",
       "4         Normal            Normal         Positive  "
      ]
     },
     "execution_count": 3,
     "metadata": {},
     "output_type": "execute_result"
    }
   ],
   "source": [
    "# Check first few rows\n",
    "df.head()"
   ]
  },
  {
   "cell_type": "code",
   "execution_count": 4,
   "id": "7c755d6b-5750-477b-ac32-b9ec972be398",
   "metadata": {},
   "outputs": [
    {
     "name": "stdout",
     "output_type": "stream",
     "text": [
      "<class 'pandas.core.frame.DataFrame'>\n",
      "RangeIndex: 349 entries, 0 to 348\n",
      "Data columns (total 10 columns):\n",
      " #   Column                Non-Null Count  Dtype \n",
      "---  ------                --------------  ----- \n",
      " 0   Disease               349 non-null    object\n",
      " 1   Fever                 349 non-null    object\n",
      " 2   Cough                 349 non-null    object\n",
      " 3   Fatigue               349 non-null    object\n",
      " 4   Difficulty Breathing  349 non-null    object\n",
      " 5   Age                   349 non-null    int64 \n",
      " 6   Gender                349 non-null    object\n",
      " 7   Blood Pressure        349 non-null    object\n",
      " 8   Cholesterol Level     349 non-null    object\n",
      " 9   Outcome Variable      349 non-null    object\n",
      "dtypes: int64(1), object(9)\n",
      "memory usage: 27.4+ KB\n"
     ]
    }
   ],
   "source": [
    "# Display basic information about the dataset\n",
    "df.info()"
   ]
  },
  {
   "cell_type": "code",
   "execution_count": 5,
   "id": "021a4613-d751-4bb7-bddf-5a3ff243efbe",
   "metadata": {},
   "outputs": [
    {
     "data": {
      "text/plain": [
       "Disease                 0\n",
       "Fever                   0\n",
       "Cough                   0\n",
       "Fatigue                 0\n",
       "Difficulty Breathing    0\n",
       "Age                     0\n",
       "Gender                  0\n",
       "Blood Pressure          0\n",
       "Cholesterol Level       0\n",
       "Outcome Variable        0\n",
       "dtype: int64"
      ]
     },
     "execution_count": 5,
     "metadata": {},
     "output_type": "execute_result"
    }
   ],
   "source": [
    "# Checking for missing values\n",
    "\n",
    "df.isnull().sum()"
   ]
  },
  {
   "cell_type": "code",
   "execution_count": 6,
   "id": "ff388054-d352-4a35-b498-f7548a37301c",
   "metadata": {},
   "outputs": [],
   "source": [
    "# Standardizing categorical values\n",
    "df = df.map(lambda x: x.strip().lower() if isinstance(x, str) else x)"
   ]
  },
  {
   "cell_type": "code",
   "execution_count": 7,
   "id": "f7415acc-e0aa-47fb-84a5-a70b7410c8ec",
   "metadata": {},
   "outputs": [
    {
     "data": {
      "text/plain": [
       "(349, 10)"
      ]
     },
     "execution_count": 7,
     "metadata": {},
     "output_type": "execute_result"
    }
   ],
   "source": [
    "# shape of the dataset\n",
    "df.shape"
   ]
  },
  {
   "cell_type": "code",
   "execution_count": 8,
   "id": "17759c5c-d968-4ff0-8757-20f5f897cf88",
   "metadata": {},
   "outputs": [],
   "source": [
    "# Standardizing categorical values\n",
    "df = df.map(lambda x: x.strip().lower() if isinstance(x, str) else x)"
   ]
  },
  {
   "cell_type": "code",
   "execution_count": 9,
   "id": "08661e9e-cfd5-45d3-b69a-caa6a935d438",
   "metadata": {},
   "outputs": [
    {
     "name": "stdout",
     "output_type": "stream",
     "text": [
      "Total Observations: 349\n",
      "Total Variables: 10\n",
      "Categorical Columns: 8\n",
      "Numerical Columns: 1\n",
      "High Cardinality Categorical Columns: 1\n",
      "Numerical but Categorical Columns: 0\n",
      "High Cardinality Columns: ['Disease']\n"
     ]
    }
   ],
   "source": [
    "# Function to categorize columns\n",
    "def identify_column_types(dataframe, cat_threshold=10, high_card_threshold=20):\n",
    "    \"\"\"\n",
    "    Classifies columns into categorical, numerical, and high-cardinality categorical types.\n",
    "    \"\"\"\n",
    "    categorical_columns = [col for col in dataframe.columns if dataframe[col].dtypes == \"O\"]\n",
    "    numeric_as_category = [col for col in dataframe.columns if dataframe[col].nunique() < cat_threshold and dataframe[col].dtypes != \"O\"]\n",
    "    high_cardinality_cats = [col for col in dataframe.columns if dataframe[col].nunique() > high_card_threshold and dataframe[col].dtypes == \"O\"]\n",
    "    \n",
    "    categorical_columns.extend(numeric_as_category)\n",
    "    categorical_columns = [col for col in categorical_columns if col not in high_cardinality_cats]\n",
    "    \n",
    "    numerical_columns = [col for col in dataframe.columns if dataframe[col].dtypes != \"O\"]\n",
    "    numerical_columns = [col for col in numerical_columns if col not in numeric_as_category]\n",
    "    \n",
    "    print(f\"Total Observations: {dataframe.shape[0]}\")\n",
    "    print(f\"Total Variables: {dataframe.shape[1]}\")\n",
    "    print(f\"Categorical Columns: {len(categorical_columns)}\")\n",
    "    print(f\"Numerical Columns: {len(numerical_columns)}\")\n",
    "    print(f\"High Cardinality Categorical Columns: {len(high_cardinality_cats)}\")\n",
    "    print(f\"Numerical but Categorical Columns: {len(numeric_as_category)}\")\n",
    "\n",
    "    print(\"High Cardinality Columns:\", high_cardinality_cats) \n",
    "    \n",
    "    return categorical_columns, numerical_columns, high_cardinality_cats\n",
    "\n",
    "# Get categorized column lists\n",
    "cat_features, num_features, high_cardinality_features = identify_column_types(df)\n"
   ]
  },
  {
   "cell_type": "code",
   "execution_count": null,
   "id": "a596cd6e-5421-4d8d-a06a-9f76f3133f96",
   "metadata": {},
   "outputs": [],
   "source": []
  },
  {
   "cell_type": "code",
   "execution_count": 10,
   "id": "7cfddcfd-dbd0-4ab4-901c-704927b8def4",
   "metadata": {},
   "outputs": [
    {
     "name": "stdout",
     "output_type": "stream",
     "text": [
      "['influenza' 'common cold' 'eczema' 'asthma' 'hyperthyroidism'\n",
      " 'allergic rhinitis' 'anxiety disorders' 'diabetes' 'gastroenteritis'\n",
      " 'pancreatitis' 'rheumatoid arthritis' 'depression' 'liver cancer'\n",
      " 'stroke' 'urinary tract infection' 'dengue fever' 'hepatitis'\n",
      " 'kidney cancer' 'migraine' 'muscular dystrophy' 'sinusitis'\n",
      " 'ulcerative colitis' 'bipolar disorder' 'bronchitis' 'cerebral palsy'\n",
      " 'colorectal cancer' 'hypertensive heart disease' 'multiple sclerosis'\n",
      " 'myocardial infarction (heart...' 'urinary tract infection (uti)'\n",
      " 'osteoporosis' 'pneumonia' 'atherosclerosis'\n",
      " 'chronic obstructive pulmonary...' 'epilepsy' 'hypertension'\n",
      " 'obsessive-compulsive disorde...' 'psoriasis' 'rubella' 'cirrhosis'\n",
      " 'conjunctivitis (pink eye)' 'liver disease' 'malaria' 'spina bifida'\n",
      " 'kidney disease' 'osteoarthritis' 'klinefelter syndrome' 'acne'\n",
      " 'brain tumor' 'cystic fibrosis' 'glaucoma' 'rabies' 'chickenpox'\n",
      " 'coronary artery disease' 'eating disorders (anorexia,...' 'fibromyalgia'\n",
      " 'hemophilia' 'hypoglycemia' 'lymphoma' 'tuberculosis' 'lung cancer'\n",
      " 'hypothyroidism' 'autism spectrum disorder (asd)' \"crohn's disease\"\n",
      " 'hyperglycemia' 'melanoma' 'ovarian cancer' 'turner syndrome'\n",
      " 'zika virus' 'cataracts' 'pneumocystis pneumonia (pcp)' 'scoliosis'\n",
      " 'sickle cell anemia' 'tetanus' 'anemia' 'cholera' 'endometriosis'\n",
      " 'sepsis' 'sleep apnea' 'down syndrome' 'ebola virus' 'lyme disease'\n",
      " 'pancreatic cancer' 'pneumothorax' 'appendicitis' 'esophageal cancer'\n",
      " 'hiv/aids' 'marfan syndrome' \"parkinson's disease\" 'hemorrhoids'\n",
      " 'polycystic ovary syndrome (pcos)' 'systemic lupus erythematosus...'\n",
      " 'typhoid fever' 'breast cancer' 'measles' 'osteomyelitis' 'polio'\n",
      " 'chronic kidney disease' 'hepatitis b' 'prader-willi syndrome'\n",
      " 'thyroid cancer' 'bladder cancer' 'otitis media (ear infection)'\n",
      " 'tourette syndrome' \"alzheimer's disease\"\n",
      " 'chronic obstructive pulmonary disease (copd)' 'dementia'\n",
      " 'diverticulitis' 'mumps' 'cholecystitis' 'prostate cancer'\n",
      " 'schizophrenia' 'gout' 'testicular cancer' 'tonsillitis'\n",
      " 'williams syndrome']\n",
      "116\n"
     ]
    }
   ],
   "source": [
    "# checking the features with high unique values\n",
    "\n",
    "print(df['Disease'].unique())\n",
    "print(df['Disease'].nunique())"
   ]
  },
  {
   "cell_type": "markdown",
   "id": "4c5999e4-fb29-4b5d-8ce0-77df0b0fd513",
   "metadata": {},
   "source": [
    "**EDA**"
   ]
  },
  {
   "cell_type": "code",
   "execution_count": 11,
   "id": "b0e1be06-8a42-4548-bffa-053517b32879",
   "metadata": {},
   "outputs": [
    {
     "name": "stdout",
     "output_type": "stream",
     "text": [
      "       Fever  Percentage\n",
      "Fever                   \n",
      "yes      175   50.143266\n",
      "no       174   49.856734\n"
     ]
    },
    {
     "name": "stderr",
     "output_type": "stream",
     "text": [
      "C:\\Users\\DELL\\AppData\\Local\\Temp\\ipykernel_25068\\1956246241.py:12: FutureWarning: \n",
      "\n",
      "Passing `palette` without assigning `hue` is deprecated and will be removed in v0.14.0. Assign the `x` variable to `hue` and set `legend=False` for the same effect.\n",
      "\n",
      "  sns.countplot(x=df[column], data=df, palette=\"viridis\")\n"
     ]
    },
    {
     "data": {
      "image/png": "[encoded data removed]",
      "text/plain": [
       "<Figure size 1000x500 with 2 Axes>"
      ]
     },
     "metadata": {},
     "output_type": "display_data"
    },
    {
     "name": "stdout",
     "output_type": "stream",
     "text": [
      "       Cough  Percentage\n",
      "Cough                   \n",
      "no       182   52.148997\n",
      "yes      167   47.851003\n"
     ]
    },
    {
     "name": "stderr",
     "output_type": "stream",
     "text": [
      "C:\\Users\\DELL\\AppData\\Local\\Temp\\ipykernel_25068\\1956246241.py:12: FutureWarning: \n",
      "\n",
      "Passing `palette` without assigning `hue` is deprecated and will be removed in v0.14.0. Assign the `x` variable to `hue` and set `legend=False` for the same effect.\n",
      "\n",
      "  sns.countplot(x=df[column], data=df, palette=\"viridis\")\n"
     ]
    },
    {
     "data": {
      "image/png": "[encoded data removed]",
      "text/plain": [
       "<Figure size 1000x500 with 2 Axes>"
      ]
     },
     "metadata": {},
     "output_type": "display_data"
    },
    {
     "name": "stdout",
     "output_type": "stream",
     "text": [
      "         Fatigue  Percentage\n",
      "Fatigue                     \n",
      "yes          242   69.340974\n",
      "no           107   30.659026\n"
     ]
    },
    {
     "name": "stderr",
     "output_type": "stream",
     "text": [
      "C:\\Users\\DELL\\AppData\\Local\\Temp\\ipykernel_25068\\1956246241.py:12: FutureWarning: \n",
      "\n",
      "Passing `palette` without assigning `hue` is deprecated and will be removed in v0.14.0. Assign the `x` variable to `hue` and set `legend=False` for the same effect.\n",
      "\n",
      "  sns.countplot(x=df[column], data=df, palette=\"viridis\")\n"
     ]
    },
    {
     "data": {
      "image/png": "[encoded data removed]",
      "text/plain": [
       "<Figure size 1000x500 with 2 Axes>"
      ]
     },
     "metadata": {},
     "output_type": "display_data"
    },
    {
     "name": "stdout",
     "output_type": "stream",
     "text": [
      "                      Difficulty Breathing  Percentage\n",
      "Difficulty Breathing                                  \n",
      "no                                     261     74.7851\n",
      "yes                                     88     25.2149\n"
     ]
    },
    {
     "name": "stderr",
     "output_type": "stream",
     "text": [
      "C:\\Users\\DELL\\AppData\\Local\\Temp\\ipykernel_25068\\1956246241.py:12: FutureWarning: \n",
      "\n",
      "Passing `palette` without assigning `hue` is deprecated and will be removed in v0.14.0. Assign the `x` variable to `hue` and set `legend=False` for the same effect.\n",
      "\n",
      "  sns.countplot(x=df[column], data=df, palette=\"viridis\")\n"
     ]
    },
    {
     "data": {
      "image/png": "[encoded data removed]",
      "text/plain": [
       "<Figure size 1000x500 with 2 Axes>"
      ]
     },
     "metadata": {},
     "output_type": "display_data"
    },
    {
     "name": "stdout",
     "output_type": "stream",
     "text": [
      "        Gender  Percentage\n",
      "Gender                    \n",
      "female     176   50.429799\n",
      "male       173   49.570201\n"
     ]
    },
    {
     "name": "stderr",
     "output_type": "stream",
     "text": [
      "C:\\Users\\DELL\\AppData\\Local\\Temp\\ipykernel_25068\\1956246241.py:12: FutureWarning: \n",
      "\n",
      "Passing `palette` without assigning `hue` is deprecated and will be removed in v0.14.0. Assign the `x` variable to `hue` and set `legend=False` for the same effect.\n",
      "\n",
      "  sns.countplot(x=df[column], data=df, palette=\"viridis\")\n"
     ]
    },
    {
     "data": {
      "image/png": "[encoded data removed]",
      "text/plain": [
       "<Figure size 1000x500 with 2 Axes>"
      ]
     },
     "metadata": {},
     "output_type": "display_data"
    },
    {
     "name": "stdout",
     "output_type": "stream",
     "text": [
      "                Blood Pressure  Percentage\n",
      "Blood Pressure                            \n",
      "high                       167   47.851003\n",
      "normal                     164   46.991404\n",
      "low                         18    5.157593\n"
     ]
    },
    {
     "name": "stderr",
     "output_type": "stream",
     "text": [
      "C:\\Users\\DELL\\AppData\\Local\\Temp\\ipykernel_25068\\1956246241.py:12: FutureWarning: \n",
      "\n",
      "Passing `palette` without assigning `hue` is deprecated and will be removed in v0.14.0. Assign the `x` variable to `hue` and set `legend=False` for the same effect.\n",
      "\n",
      "  sns.countplot(x=df[column], data=df, palette=\"viridis\")\n"
     ]
    },
    {
     "data": {
      "image/png": "[encoded data removed]",
      "text/plain": [
       "<Figure size 1000x500 with 2 Axes>"
      ]
     },
     "metadata": {},
     "output_type": "display_data"
    },
    {
     "name": "stdout",
     "output_type": "stream",
     "text": [
      "                   Cholesterol Level  Percentage\n",
      "Cholesterol Level                               \n",
      "high                             166    47.56447\n",
      "normal                           149    42.69341\n",
      "low                               34     9.74212\n"
     ]
    },
    {
     "name": "stderr",
     "output_type": "stream",
     "text": [
      "C:\\Users\\DELL\\AppData\\Local\\Temp\\ipykernel_25068\\1956246241.py:12: FutureWarning: \n",
      "\n",
      "Passing `palette` without assigning `hue` is deprecated and will be removed in v0.14.0. Assign the `x` variable to `hue` and set `legend=False` for the same effect.\n",
      "\n",
      "  sns.countplot(x=df[column], data=df, palette=\"viridis\")\n"
     ]
    },
    {
     "data": {
      "image/png": "[encoded data removed]",
      "text/plain": [
       "<Figure size 1000x500 with 2 Axes>"
      ]
     },
     "metadata": {},
     "output_type": "display_data"
    },
    {
     "name": "stdout",
     "output_type": "stream",
     "text": [
      "                  Outcome Variable  Percentage\n",
      "Outcome Variable                              \n",
      "positive                       186   53.295129\n",
      "negative                       163   46.704871\n"
     ]
    },
    {
     "name": "stderr",
     "output_type": "stream",
     "text": [
      "C:\\Users\\DELL\\AppData\\Local\\Temp\\ipykernel_25068\\1956246241.py:12: FutureWarning: \n",
      "\n",
      "Passing `palette` without assigning `hue` is deprecated and will be removed in v0.14.0. Assign the `x` variable to `hue` and set `legend=False` for the same effect.\n",
      "\n",
      "  sns.countplot(x=df[column], data=df, palette=\"viridis\")\n"
     ]
    },
    {
     "data": {
      "image/png": "[encoded data removed]",
      "text/plain": [
       "<Figure size 1000x500 with 2 Axes>"
      ]
     },
     "metadata": {},
     "output_type": "display_data"
    }
   ],
   "source": [
    "# Exploratory Data Analysis\n",
    "for column in cat_features:\n",
    "    print(pd.DataFrame({\n",
    "        column: df[column].value_counts(),\n",
    "        \"Percentage\": 100 * df[column].value_counts() / len(df)\n",
    "    }))\n",
    "    \n",
    "    plt.figure(figsize=(10, 5))\n",
    "    \n",
    "    # Countplot with different colors\n",
    "    plt.subplot(1, 2, 1)\n",
    "    sns.countplot(x=df[column], data=df, palette=\"viridis\")\n",
    "    plt.title(f\"Distribution of {column}\")\n",
    "    plt.xticks(rotation=90)\n",
    "    \n",
    "    # Pie chart\n",
    "    plt.subplot(1, 2, 2)\n",
    "    counts = df[column].value_counts()\n",
    "    plt.pie(counts, labels=counts.index, autopct=lambda p: f'{p:.1f}%\\n({p/100*sum(counts):.0f})', colors=sns.color_palette(\"pastel\"))\n",
    "    plt.title(f\"Proportion of {column}\")\n",
    "    \n",
    "    plt.tight_layout()\n",
    "    plt.show()"
   ]
  },
  {
   "cell_type": "markdown",
   "id": "37decffb-0ef2-405c-ad3c-1ef378a8f546",
   "metadata": {},
   "source": [
    "**Feature Extraction**"
   ]
  },
  {
   "cell_type": "code",
   "execution_count": 12,
   "id": "dab5b557-4f25-4680-8f86-1af2a5487b89",
   "metadata": {},
   "outputs": [
    {
     "data": {
      "text/plain": [
       "Disease\n",
       "asthma               23\n",
       "stroke               16\n",
       "osteoporosis         14\n",
       "diabetes             10\n",
       "hypertension         10\n",
       "                     ..\n",
       "schizophrenia         1\n",
       "gout                  1\n",
       "testicular cancer     1\n",
       "tonsillitis           1\n",
       "williams syndrome     1\n",
       "Name: count, Length: 116, dtype: int64"
      ]
     },
     "execution_count": 12,
     "metadata": {},
     "output_type": "execute_result"
    }
   ],
   "source": [
    "df['Disease'].value_counts()"
   ]
  },
  {
   "cell_type": "code",
   "execution_count": 13,
   "id": "d2b06c3e-f8a0-4844-b429-4567c74223c0",
   "metadata": {},
   "outputs": [
    {
     "data": {
      "text/html": [
       "<div>\n",
       "<style scoped>\n",
       "    .dataframe tbody tr th:only-of-type {\n",
       "        vertical-align: middle;\n",
       "    }\n",
       "\n",
       "    .dataframe tbody tr th {\n",
       "        vertical-align: top;\n",
       "    }\n",
       "\n",
       "    .dataframe thead th {\n",
       "        text-align: right;\n",
       "    }\n",
       "</style>\n",
       "<table border=\"1\" class=\"dataframe\">\n",
       "  <thead>\n",
       "    <tr style=\"text-align: right;\">\n",
       "      <th></th>\n",
       "      <th>Disease</th>\n",
       "      <th>Fever</th>\n",
       "      <th>Cough</th>\n",
       "      <th>Fatigue</th>\n",
       "      <th>Difficulty Breathing</th>\n",
       "      <th>Age</th>\n",
       "      <th>Gender</th>\n",
       "      <th>Blood Pressure</th>\n",
       "      <th>Cholesterol Level</th>\n",
       "      <th>Outcome Variable</th>\n",
       "    </tr>\n",
       "  </thead>\n",
       "  <tbody>\n",
       "    <tr>\n",
       "      <th>0</th>\n",
       "      <td>influenza</td>\n",
       "      <td>yes</td>\n",
       "      <td>no</td>\n",
       "      <td>yes</td>\n",
       "      <td>yes</td>\n",
       "      <td>19</td>\n",
       "      <td>female</td>\n",
       "      <td>low</td>\n",
       "      <td>normal</td>\n",
       "      <td>positive</td>\n",
       "    </tr>\n",
       "    <tr>\n",
       "      <th>1</th>\n",
       "      <td>common cold</td>\n",
       "      <td>no</td>\n",
       "      <td>yes</td>\n",
       "      <td>yes</td>\n",
       "      <td>no</td>\n",
       "      <td>25</td>\n",
       "      <td>female</td>\n",
       "      <td>normal</td>\n",
       "      <td>normal</td>\n",
       "      <td>negative</td>\n",
       "    </tr>\n",
       "    <tr>\n",
       "      <th>2</th>\n",
       "      <td>eczema</td>\n",
       "      <td>no</td>\n",
       "      <td>yes</td>\n",
       "      <td>yes</td>\n",
       "      <td>no</td>\n",
       "      <td>25</td>\n",
       "      <td>female</td>\n",
       "      <td>normal</td>\n",
       "      <td>normal</td>\n",
       "      <td>negative</td>\n",
       "    </tr>\n",
       "    <tr>\n",
       "      <th>3</th>\n",
       "      <td>asthma</td>\n",
       "      <td>yes</td>\n",
       "      <td>yes</td>\n",
       "      <td>no</td>\n",
       "      <td>yes</td>\n",
       "      <td>25</td>\n",
       "      <td>male</td>\n",
       "      <td>normal</td>\n",
       "      <td>normal</td>\n",
       "      <td>positive</td>\n",
       "    </tr>\n",
       "    <tr>\n",
       "      <th>4</th>\n",
       "      <td>asthma</td>\n",
       "      <td>yes</td>\n",
       "      <td>yes</td>\n",
       "      <td>no</td>\n",
       "      <td>yes</td>\n",
       "      <td>25</td>\n",
       "      <td>male</td>\n",
       "      <td>normal</td>\n",
       "      <td>normal</td>\n",
       "      <td>positive</td>\n",
       "    </tr>\n",
       "  </tbody>\n",
       "</table>\n",
       "</div>"
      ],
      "text/plain": [
       "       Disease Fever Cough Fatigue Difficulty Breathing  Age  Gender  \\\n",
       "0    influenza   yes    no     yes                  yes   19  female   \n",
       "1  common cold    no   yes     yes                   no   25  female   \n",
       "2       eczema    no   yes     yes                   no   25  female   \n",
       "3       asthma   yes   yes      no                  yes   25    male   \n",
       "4       asthma   yes   yes      no                  yes   25    male   \n",
       "\n",
       "  Blood Pressure Cholesterol Level Outcome Variable  \n",
       "0            low            normal         positive  \n",
       "1         normal            normal         negative  \n",
       "2         normal            normal         negative  \n",
       "3         normal            normal         positive  \n",
       "4         normal            normal         positive  "
      ]
     },
     "execution_count": 13,
     "metadata": {},
     "output_type": "execute_result"
    }
   ],
   "source": [
    "df.head()"
   ]
  },
  {
   "cell_type": "code",
   "execution_count": 14,
   "id": "3253f267-8996-4dff-b34a-89c3f5078844",
   "metadata": {},
   "outputs": [],
   "source": [
    "# Symptom Severity Score\n",
    "df[\"symptom_severity_score\"] = df[[\"Fever\", \"Cough\", \"Fatigue\", \"Difficulty Breathing\"]].apply(lambda x: sum(x == \"yes\"), axis=1)\n",
    "\n",
    "# \"severity_level\" to categorize the scores\n",
    "df[\"severity_level\"] = df[\"symptom_severity_score\"].apply(lambda x: \"Low\" if x <= 1 else \"Moderate\" if x == 2 else \"High\")\n"
   ]
  },
  {
   "cell_type": "code",
   "execution_count": 15,
   "id": "a7d4b7e8-5069-4a06-b184-6f17f19e3aeb",
   "metadata": {},
   "outputs": [
    {
     "data": {
      "text/plain": [
       "'\\nFeature Engineering:\\n1. Symptom Severity Score: Calculates the total number of symptoms reported.\\n2. Age Group Binning: Categorizes patients into different age groups.\\n3. Risk Score: Computes risk based on age, blood pressure, and cholesterol levels.\\n4. Risk Level Classification: Categorizes the risk score into Low, Moderate, or High.\\n'"
      ]
     },
     "execution_count": 15,
     "metadata": {},
     "output_type": "execute_result"
    }
   ],
   "source": [
    "df.head()\n",
    "\n",
    "\"\"\"\n",
    "Feature Engineering:\n",
    "1. Symptom Severity Score: Calculates the total number of symptoms reported.\n",
    "2. Age Group Binning: Categorizes patients into different age groups.\n",
    "3. Risk Score: Computes risk based on age, blood pressure, and cholesterol levels.\n",
    "4. Risk Level Classification: Categorizes the risk score into Low, Moderate, or High.\n",
    "\"\"\""
   ]
  },
  {
   "cell_type": "code",
   "execution_count": 16,
   "id": "0b0c2615-c794-4b11-abcd-c8862f075756",
   "metadata": {},
   "outputs": [],
   "source": [
    "# Age group binning\n",
    "\n",
    "bins = [0, 18, 65, float('inf')]\n",
    "labels = ['Child', 'Adult', 'Senior']\n",
    "df['Age_Group'] = pd.cut(df['Age'], bins=bins, labels=labels, right=False)\n"
   ]
  },
  {
   "cell_type": "code",
   "execution_count": 18,
   "id": "3bca75ee-5497-4d6b-9c11-5e510797b846",
   "metadata": {},
   "outputs": [],
   "source": [
    "# Risk Score\n",
    "df['Risk_Score'] = df['Age'] * 0.1 + (df['Cholesterol Level'] == 'High') * 10\n"
   ]
  },
  {
   "cell_type": "code",
   "execution_count": 19,
   "id": "0c4babbe-e0f6-4d6b-b68e-36dbd284b7a5",
   "metadata": {},
   "outputs": [],
   "source": [
    "# Risk Score Classification\n",
    "\n",
    "def classify_risk(score):\n",
    "    \"\"\"\n",
    "    Categorizes the risk score into Low, Moderate, or High.\n",
    "    \n",
    "    Parameters:\n",
    "    score (float): The calculated risk score.\n",
    "    \n",
    "    Returns:\n",
    "    str: The risk category (Low, Moderate, High).\n",
    "    \"\"\"\n",
    "    if score < 5:\n",
    "        return \"Low\"\n",
    "    elif 5 <= score < 10:\n",
    "        return \"Moderate\"\n",
    "    else:\n",
    "        return \"High\"\n",
    "\n",
    "df['Risk_Level'] = df['Risk_Score'].apply(classify_risk)"
   ]
  },
  {
   "cell_type": "code",
   "execution_count": 20,
   "id": "7646e1cf-01af-4b9a-b345-ff930bd60d1d",
   "metadata": {},
   "outputs": [
    {
     "data": {
      "text/html": [
       "<div>\n",
       "<style scoped>\n",
       "    .dataframe tbody tr th:only-of-type {\n",
       "        vertical-align: middle;\n",
       "    }\n",
       "\n",
       "    .dataframe tbody tr th {\n",
       "        vertical-align: top;\n",
       "    }\n",
       "\n",
       "    .dataframe thead th {\n",
       "        text-align: right;\n",
       "    }\n",
       "</style>\n",
       "<table border=\"1\" class=\"dataframe\">\n",
       "  <thead>\n",
       "    <tr style=\"text-align: right;\">\n",
       "      <th></th>\n",
       "      <th>Disease</th>\n",
       "      <th>Fever</th>\n",
       "      <th>Cough</th>\n",
       "      <th>Fatigue</th>\n",
       "      <th>Difficulty Breathing</th>\n",
       "      <th>Age</th>\n",
       "      <th>Gender</th>\n",
       "      <th>Blood Pressure</th>\n",
       "      <th>Cholesterol Level</th>\n",
       "      <th>Outcome Variable</th>\n",
       "      <th>symptom_severity_score</th>\n",
       "      <th>severity_level</th>\n",
       "      <th>Age_Group</th>\n",
       "      <th>Risk_Score</th>\n",
       "      <th>Risk_Level</th>\n",
       "    </tr>\n",
       "  </thead>\n",
       "  <tbody>\n",
       "    <tr>\n",
       "      <th>0</th>\n",
       "      <td>influenza</td>\n",
       "      <td>yes</td>\n",
       "      <td>no</td>\n",
       "      <td>yes</td>\n",
       "      <td>yes</td>\n",
       "      <td>19</td>\n",
       "      <td>female</td>\n",
       "      <td>low</td>\n",
       "      <td>normal</td>\n",
       "      <td>positive</td>\n",
       "      <td>3</td>\n",
       "      <td>High</td>\n",
       "      <td>Adult</td>\n",
       "      <td>1.9</td>\n",
       "      <td>Low</td>\n",
       "    </tr>\n",
       "    <tr>\n",
       "      <th>1</th>\n",
       "      <td>common cold</td>\n",
       "      <td>no</td>\n",
       "      <td>yes</td>\n",
       "      <td>yes</td>\n",
       "      <td>no</td>\n",
       "      <td>25</td>\n",
       "      <td>female</td>\n",
       "      <td>normal</td>\n",
       "      <td>normal</td>\n",
       "      <td>negative</td>\n",
       "      <td>2</td>\n",
       "      <td>Moderate</td>\n",
       "      <td>Adult</td>\n",
       "      <td>2.5</td>\n",
       "      <td>Low</td>\n",
       "    </tr>\n",
       "    <tr>\n",
       "      <th>2</th>\n",
       "      <td>eczema</td>\n",
       "      <td>no</td>\n",
       "      <td>yes</td>\n",
       "      <td>yes</td>\n",
       "      <td>no</td>\n",
       "      <td>25</td>\n",
       "      <td>female</td>\n",
       "      <td>normal</td>\n",
       "      <td>normal</td>\n",
       "      <td>negative</td>\n",
       "      <td>2</td>\n",
       "      <td>Moderate</td>\n",
       "      <td>Adult</td>\n",
       "      <td>2.5</td>\n",
       "      <td>Low</td>\n",
       "    </tr>\n",
       "    <tr>\n",
       "      <th>3</th>\n",
       "      <td>asthma</td>\n",
       "      <td>yes</td>\n",
       "      <td>yes</td>\n",
       "      <td>no</td>\n",
       "      <td>yes</td>\n",
       "      <td>25</td>\n",
       "      <td>male</td>\n",
       "      <td>normal</td>\n",
       "      <td>normal</td>\n",
       "      <td>positive</td>\n",
       "      <td>3</td>\n",
       "      <td>High</td>\n",
       "      <td>Adult</td>\n",
       "      <td>2.5</td>\n",
       "      <td>Low</td>\n",
       "    </tr>\n",
       "    <tr>\n",
       "      <th>4</th>\n",
       "      <td>asthma</td>\n",
       "      <td>yes</td>\n",
       "      <td>yes</td>\n",
       "      <td>no</td>\n",
       "      <td>yes</td>\n",
       "      <td>25</td>\n",
       "      <td>male</td>\n",
       "      <td>normal</td>\n",
       "      <td>normal</td>\n",
       "      <td>positive</td>\n",
       "      <td>3</td>\n",
       "      <td>High</td>\n",
       "      <td>Adult</td>\n",
       "      <td>2.5</td>\n",
       "      <td>Low</td>\n",
       "    </tr>\n",
       "  </tbody>\n",
       "</table>\n",
       "</div>"
      ],
      "text/plain": [
       "       Disease Fever Cough Fatigue Difficulty Breathing  Age  Gender  \\\n",
       "0    influenza   yes    no     yes                  yes   19  female   \n",
       "1  common cold    no   yes     yes                   no   25  female   \n",
       "2       eczema    no   yes     yes                   no   25  female   \n",
       "3       asthma   yes   yes      no                  yes   25    male   \n",
       "4       asthma   yes   yes      no                  yes   25    male   \n",
       "\n",
       "  Blood Pressure Cholesterol Level Outcome Variable  symptom_severity_score  \\\n",
       "0            low            normal         positive                       3   \n",
       "1         normal            normal         negative                       2   \n",
       "2         normal            normal         negative                       2   \n",
       "3         normal            normal         positive                       3   \n",
       "4         normal            normal         positive                       3   \n",
       "\n",
       "  severity_level Age_Group  Risk_Score Risk_Level  \n",
       "0           High     Adult         1.9        Low  \n",
       "1       Moderate     Adult         2.5        Low  \n",
       "2       Moderate     Adult         2.5        Low  \n",
       "3           High     Adult         2.5        Low  \n",
       "4           High     Adult         2.5        Low  "
      ]
     },
     "execution_count": 20,
     "metadata": {},
     "output_type": "execute_result"
    }
   ],
   "source": [
    "df.head()"
   ]
  },
  {
   "cell_type": "markdown",
   "id": "22dc041a-2d0b-475e-897a-02f4ec417407",
   "metadata": {},
   "source": [
    "**Encoding Features**"
   ]
  },
  {
   "cell_type": "code",
   "execution_count": 21,
   "id": "e264aebe-27ac-4cda-81bc-d2605bcb6a79",
   "metadata": {},
   "outputs": [],
   "source": [
    "# One-Hot Encoding \n",
    "\n",
    "new_df = pd.get_dummies(df,columns=['Fever','Cough','Fatigue','Difficulty Breathing','Blood Pressure','Cholesterol Level','Gender','Age_Group'],drop_first=True)\n",
    "\n",
    "\n",
    "# Convert only Boolean columns to integers\n",
    "bool_cols = new_df.select_dtypes(include=['bool']).columns  \n",
    "new_df[bool_cols] = new_df[bool_cols].astype(int)  \n",
    "\n",
    "\n"
   ]
  },
  {
   "cell_type": "code",
   "execution_count": 22,
   "id": "f85b0407-9114-4199-b90a-309c768a8229",
   "metadata": {},
   "outputs": [
    {
     "name": "stdout",
     "output_type": "stream",
     "text": [
      "<class 'pandas.core.frame.DataFrame'>\n",
      "RangeIndex: 349 entries, 0 to 348\n",
      "Data columns (total 18 columns):\n",
      " #   Column                    Non-Null Count  Dtype  \n",
      "---  ------                    --------------  -----  \n",
      " 0   Disease                   349 non-null    object \n",
      " 1   Age                       349 non-null    int64  \n",
      " 2   Outcome Variable          349 non-null    object \n",
      " 3   symptom_severity_score    349 non-null    int64  \n",
      " 4   severity_level            349 non-null    object \n",
      " 5   Risk_Score                349 non-null    float64\n",
      " 6   Risk_Level                349 non-null    object \n",
      " 7   Fever_yes                 349 non-null    int64  \n",
      " 8   Cough_yes                 349 non-null    int64  \n",
      " 9   Fatigue_yes               349 non-null    int64  \n",
      " 10  Difficulty Breathing_yes  349 non-null    int64  \n",
      " 11  Blood Pressure_low        349 non-null    int64  \n",
      " 12  Blood Pressure_normal     349 non-null    int64  \n",
      " 13  Cholesterol Level_low     349 non-null    int64  \n",
      " 14  Cholesterol Level_normal  349 non-null    int64  \n",
      " 15  Gender_male               349 non-null    int64  \n",
      " 16  Age_Group_Adult           349 non-null    int64  \n",
      " 17  Age_Group_Senior          349 non-null    int64  \n",
      "dtypes: float64(1), int64(13), object(4)\n",
      "memory usage: 49.2+ KB\n"
     ]
    }
   ],
   "source": [
    "new_df.info()"
   ]
  },
  {
   "cell_type": "code",
   "execution_count": 23,
   "id": "853fea01-78ea-4ba6-86f5-37be007f463b",
   "metadata": {},
   "outputs": [
    {
     "data": {
      "text/html": [
       "<div>\n",
       "<style scoped>\n",
       "    .dataframe tbody tr th:only-of-type {\n",
       "        vertical-align: middle;\n",
       "    }\n",
       "\n",
       "    .dataframe tbody tr th {\n",
       "        vertical-align: top;\n",
       "    }\n",
       "\n",
       "    .dataframe thead th {\n",
       "        text-align: right;\n",
       "    }\n",
       "</style>\n",
       "<table border=\"1\" class=\"dataframe\">\n",
       "  <thead>\n",
       "    <tr style=\"text-align: right;\">\n",
       "      <th></th>\n",
       "      <th>Disease</th>\n",
       "      <th>Age</th>\n",
       "      <th>Outcome Variable</th>\n",
       "      <th>symptom_severity_score</th>\n",
       "      <th>severity_level</th>\n",
       "      <th>Risk_Score</th>\n",
       "      <th>Risk_Level</th>\n",
       "      <th>Fever_yes</th>\n",
       "      <th>Cough_yes</th>\n",
       "      <th>Fatigue_yes</th>\n",
       "      <th>Difficulty Breathing_yes</th>\n",
       "      <th>Blood Pressure_low</th>\n",
       "      <th>Blood Pressure_normal</th>\n",
       "      <th>Cholesterol Level_low</th>\n",
       "      <th>Cholesterol Level_normal</th>\n",
       "      <th>Gender_male</th>\n",
       "      <th>Age_Group_Adult</th>\n",
       "      <th>Age_Group_Senior</th>\n",
       "    </tr>\n",
       "  </thead>\n",
       "  <tbody>\n",
       "    <tr>\n",
       "      <th>0</th>\n",
       "      <td>influenza</td>\n",
       "      <td>19</td>\n",
       "      <td>positive</td>\n",
       "      <td>3</td>\n",
       "      <td>High</td>\n",
       "      <td>1.9</td>\n",
       "      <td>Low</td>\n",
       "      <td>1</td>\n",
       "      <td>0</td>\n",
       "      <td>1</td>\n",
       "      <td>1</td>\n",
       "      <td>1</td>\n",
       "      <td>0</td>\n",
       "      <td>0</td>\n",
       "      <td>1</td>\n",
       "      <td>0</td>\n",
       "      <td>1</td>\n",
       "      <td>0</td>\n",
       "    </tr>\n",
       "    <tr>\n",
       "      <th>1</th>\n",
       "      <td>common cold</td>\n",
       "      <td>25</td>\n",
       "      <td>negative</td>\n",
       "      <td>2</td>\n",
       "      <td>Moderate</td>\n",
       "      <td>2.5</td>\n",
       "      <td>Low</td>\n",
       "      <td>0</td>\n",
       "      <td>1</td>\n",
       "      <td>1</td>\n",
       "      <td>0</td>\n",
       "      <td>0</td>\n",
       "      <td>1</td>\n",
       "      <td>0</td>\n",
       "      <td>1</td>\n",
       "      <td>0</td>\n",
       "      <td>1</td>\n",
       "      <td>0</td>\n",
       "    </tr>\n",
       "    <tr>\n",
       "      <th>2</th>\n",
       "      <td>eczema</td>\n",
       "      <td>25</td>\n",
       "      <td>negative</td>\n",
       "      <td>2</td>\n",
       "      <td>Moderate</td>\n",
       "      <td>2.5</td>\n",
       "      <td>Low</td>\n",
       "      <td>0</td>\n",
       "      <td>1</td>\n",
       "      <td>1</td>\n",
       "      <td>0</td>\n",
       "      <td>0</td>\n",
       "      <td>1</td>\n",
       "      <td>0</td>\n",
       "      <td>1</td>\n",
       "      <td>0</td>\n",
       "      <td>1</td>\n",
       "      <td>0</td>\n",
       "    </tr>\n",
       "    <tr>\n",
       "      <th>3</th>\n",
       "      <td>asthma</td>\n",
       "      <td>25</td>\n",
       "      <td>positive</td>\n",
       "      <td>3</td>\n",
       "      <td>High</td>\n",
       "      <td>2.5</td>\n",
       "      <td>Low</td>\n",
       "      <td>1</td>\n",
       "      <td>1</td>\n",
       "      <td>0</td>\n",
       "      <td>1</td>\n",
       "      <td>0</td>\n",
       "      <td>1</td>\n",
       "      <td>0</td>\n",
       "      <td>1</td>\n",
       "      <td>1</td>\n",
       "      <td>1</td>\n",
       "      <td>0</td>\n",
       "    </tr>\n",
       "    <tr>\n",
       "      <th>4</th>\n",
       "      <td>asthma</td>\n",
       "      <td>25</td>\n",
       "      <td>positive</td>\n",
       "      <td>3</td>\n",
       "      <td>High</td>\n",
       "      <td>2.5</td>\n",
       "      <td>Low</td>\n",
       "      <td>1</td>\n",
       "      <td>1</td>\n",
       "      <td>0</td>\n",
       "      <td>1</td>\n",
       "      <td>0</td>\n",
       "      <td>1</td>\n",
       "      <td>0</td>\n",
       "      <td>1</td>\n",
       "      <td>1</td>\n",
       "      <td>1</td>\n",
       "      <td>0</td>\n",
       "    </tr>\n",
       "  </tbody>\n",
       "</table>\n",
       "</div>"
      ],
      "text/plain": [
       "       Disease  Age Outcome Variable  symptom_severity_score severity_level  \\\n",
       "0    influenza   19         positive                       3           High   \n",
       "1  common cold   25         negative                       2       Moderate   \n",
       "2       eczema   25         negative                       2       Moderate   \n",
       "3       asthma   25         positive                       3           High   \n",
       "4       asthma   25         positive                       3           High   \n",
       "\n",
       "   Risk_Score Risk_Level  Fever_yes  Cough_yes  Fatigue_yes  \\\n",
       "0         1.9        Low          1          0            1   \n",
       "1         2.5        Low          0          1            1   \n",
       "2         2.5        Low          0          1            1   \n",
       "3         2.5        Low          1          1            0   \n",
       "4         2.5        Low          1          1            0   \n",
       "\n",
       "   Difficulty Breathing_yes  Blood Pressure_low  Blood Pressure_normal  \\\n",
       "0                         1                   1                      0   \n",
       "1                         0                   0                      1   \n",
       "2                         0                   0                      1   \n",
       "3                         1                   0                      1   \n",
       "4                         1                   0                      1   \n",
       "\n",
       "   Cholesterol Level_low  Cholesterol Level_normal  Gender_male  \\\n",
       "0                      0                         1            0   \n",
       "1                      0                         1            0   \n",
       "2                      0                         1            0   \n",
       "3                      0                         1            1   \n",
       "4                      0                         1            1   \n",
       "\n",
       "   Age_Group_Adult  Age_Group_Senior  \n",
       "0                1                 0  \n",
       "1                1                 0  \n",
       "2                1                 0  \n",
       "3                1                 0  \n",
       "4                1                 0  "
      ]
     },
     "execution_count": 23,
     "metadata": {},
     "output_type": "execute_result"
    }
   ],
   "source": [
    "new_df.head()"
   ]
  },
  {
   "cell_type": "code",
   "execution_count": 24,
   "id": "22bdb8e7-c370-4c79-a1c0-e5585edb03cd",
   "metadata": {},
   "outputs": [
    {
     "data": {
      "text/plain": [
       "(349, 18)"
      ]
     },
     "execution_count": 24,
     "metadata": {},
     "output_type": "execute_result"
    }
   ],
   "source": [
    "new_df.shape"
   ]
  },
  {
   "cell_type": "code",
   "execution_count": 25,
   "id": "92616ff6-d252-4110-af6c-f77d7fefcc7f",
   "metadata": {},
   "outputs": [
    {
     "data": {
      "text/plain": [
       "array(['Disease', 'Age', 'Outcome Variable', 'symptom_severity_score',\n",
       "       'severity_level', 'Risk_Score', 'Risk_Level', 'Fever_yes',\n",
       "       'Cough_yes', 'Fatigue_yes', 'Difficulty Breathing_yes',\n",
       "       'Blood Pressure_low', 'Blood Pressure_normal',\n",
       "       'Cholesterol Level_low', 'Cholesterol Level_normal', 'Gender_male',\n",
       "       'Age_Group_Adult', 'Age_Group_Senior'], dtype=object)"
      ]
     },
     "execution_count": 25,
     "metadata": {},
     "output_type": "execute_result"
    }
   ],
   "source": [
    "new_df.columns.values"
   ]
  },
  {
   "cell_type": "code",
   "execution_count": 26,
   "id": "cf2e9402-14c2-40ed-bb3a-449224a3211c",
   "metadata": {},
   "outputs": [],
   "source": [
    "# Rename the target variable as 'Results'\n",
    "\n",
    "new_df.rename(columns={\"Outcome Variable\": \"Results\"}, inplace=True)\n"
   ]
  },
  {
   "cell_type": "code",
   "execution_count": 27,
   "id": "8a172cf0-28b2-4703-8ace-d73f52357e01",
   "metadata": {},
   "outputs": [
    {
     "name": "stdout",
     "output_type": "stream",
     "text": [
      "<class 'pandas.core.frame.DataFrame'>\n",
      "RangeIndex: 349 entries, 0 to 348\n",
      "Data columns (total 18 columns):\n",
      " #   Column                    Non-Null Count  Dtype  \n",
      "---  ------                    --------------  -----  \n",
      " 0   Disease                   349 non-null    object \n",
      " 1   Age                       349 non-null    int64  \n",
      " 2   Results                   349 non-null    object \n",
      " 3   symptom_severity_score    349 non-null    int64  \n",
      " 4   severity_level            349 non-null    object \n",
      " 5   Risk_Score                349 non-null    float64\n",
      " 6   Risk_Level                349 non-null    object \n",
      " 7   Fever_yes                 349 non-null    int64  \n",
      " 8   Cough_yes                 349 non-null    int64  \n",
      " 9   Fatigue_yes               349 non-null    int64  \n",
      " 10  Difficulty Breathing_yes  349 non-null    int64  \n",
      " 11  Blood Pressure_low        349 non-null    int64  \n",
      " 12  Blood Pressure_normal     349 non-null    int64  \n",
      " 13  Cholesterol Level_low     349 non-null    int64  \n",
      " 14  Cholesterol Level_normal  349 non-null    int64  \n",
      " 15  Gender_male               349 non-null    int64  \n",
      " 16  Age_Group_Adult           349 non-null    int64  \n",
      " 17  Age_Group_Senior          349 non-null    int64  \n",
      "dtypes: float64(1), int64(13), object(4)\n",
      "memory usage: 49.2+ KB\n"
     ]
    }
   ],
   "source": [
    "new_df.info()"
   ]
  },
  {
   "cell_type": "code",
   "execution_count": 28,
   "id": "8477c678-0135-4454-b7de-ce3794e6d4ff",
   "metadata": {},
   "outputs": [],
   "source": [
    "# Encode the categorical feature\n",
    "\n",
    "cols_encode=['Results', 'severity_level', 'Risk_Level']\n",
    "\n",
    "\n",
    "# Initialize and apply LabelEncoder\n",
    "label_encoders = {}\n",
    "for col in cols_encode:\n",
    "    le = LabelEncoder()\n",
    "    new_df[col] = le.fit_transform(new_df[col])  # Transform the column\n",
    "    label_encoders[col] = le  # Store the encoder if needed for inverse transformation later\n"
   ]
  },
  {
   "cell_type": "code",
   "execution_count": 29,
   "id": "f11536f0-2679-4518-8ed7-33c4b32d99d3",
   "metadata": {},
   "outputs": [
    {
     "data": {
      "text/html": [
       "<div>\n",
       "<style scoped>\n",
       "    .dataframe tbody tr th:only-of-type {\n",
       "        vertical-align: middle;\n",
       "    }\n",
       "\n",
       "    .dataframe tbody tr th {\n",
       "        vertical-align: top;\n",
       "    }\n",
       "\n",
       "    .dataframe thead th {\n",
       "        text-align: right;\n",
       "    }\n",
       "</style>\n",
       "<table border=\"1\" class=\"dataframe\">\n",
       "  <thead>\n",
       "    <tr style=\"text-align: right;\">\n",
       "      <th></th>\n",
       "      <th>Disease</th>\n",
       "      <th>Age</th>\n",
       "      <th>Results</th>\n",
       "      <th>symptom_severity_score</th>\n",
       "      <th>severity_level</th>\n",
       "      <th>Risk_Score</th>\n",
       "      <th>Risk_Level</th>\n",
       "      <th>Fever_yes</th>\n",
       "      <th>Cough_yes</th>\n",
       "      <th>Fatigue_yes</th>\n",
       "      <th>Difficulty Breathing_yes</th>\n",
       "      <th>Blood Pressure_low</th>\n",
       "      <th>Blood Pressure_normal</th>\n",
       "      <th>Cholesterol Level_low</th>\n",
       "      <th>Cholesterol Level_normal</th>\n",
       "      <th>Gender_male</th>\n",
       "      <th>Age_Group_Adult</th>\n",
       "      <th>Age_Group_Senior</th>\n",
       "    </tr>\n",
       "  </thead>\n",
       "  <tbody>\n",
       "    <tr>\n",
       "      <th>0</th>\n",
       "      <td>influenza</td>\n",
       "      <td>19</td>\n",
       "      <td>1</td>\n",
       "      <td>3</td>\n",
       "      <td>0</td>\n",
       "      <td>1.9</td>\n",
       "      <td>0</td>\n",
       "      <td>1</td>\n",
       "      <td>0</td>\n",
       "      <td>1</td>\n",
       "      <td>1</td>\n",
       "      <td>1</td>\n",
       "      <td>0</td>\n",
       "      <td>0</td>\n",
       "      <td>1</td>\n",
       "      <td>0</td>\n",
       "      <td>1</td>\n",
       "      <td>0</td>\n",
       "    </tr>\n",
       "    <tr>\n",
       "      <th>1</th>\n",
       "      <td>common cold</td>\n",
       "      <td>25</td>\n",
       "      <td>0</td>\n",
       "      <td>2</td>\n",
       "      <td>2</td>\n",
       "      <td>2.5</td>\n",
       "      <td>0</td>\n",
       "      <td>0</td>\n",
       "      <td>1</td>\n",
       "      <td>1</td>\n",
       "      <td>0</td>\n",
       "      <td>0</td>\n",
       "      <td>1</td>\n",
       "      <td>0</td>\n",
       "      <td>1</td>\n",
       "      <td>0</td>\n",
       "      <td>1</td>\n",
       "      <td>0</td>\n",
       "    </tr>\n",
       "    <tr>\n",
       "      <th>2</th>\n",
       "      <td>eczema</td>\n",
       "      <td>25</td>\n",
       "      <td>0</td>\n",
       "      <td>2</td>\n",
       "      <td>2</td>\n",
       "      <td>2.5</td>\n",
       "      <td>0</td>\n",
       "      <td>0</td>\n",
       "      <td>1</td>\n",
       "      <td>1</td>\n",
       "      <td>0</td>\n",
       "      <td>0</td>\n",
       "      <td>1</td>\n",
       "      <td>0</td>\n",
       "      <td>1</td>\n",
       "      <td>0</td>\n",
       "      <td>1</td>\n",
       "      <td>0</td>\n",
       "    </tr>\n",
       "    <tr>\n",
       "      <th>3</th>\n",
       "      <td>asthma</td>\n",
       "      <td>25</td>\n",
       "      <td>1</td>\n",
       "      <td>3</td>\n",
       "      <td>0</td>\n",
       "      <td>2.5</td>\n",
       "      <td>0</td>\n",
       "      <td>1</td>\n",
       "      <td>1</td>\n",
       "      <td>0</td>\n",
       "      <td>1</td>\n",
       "      <td>0</td>\n",
       "      <td>1</td>\n",
       "      <td>0</td>\n",
       "      <td>1</td>\n",
       "      <td>1</td>\n",
       "      <td>1</td>\n",
       "      <td>0</td>\n",
       "    </tr>\n",
       "    <tr>\n",
       "      <th>4</th>\n",
       "      <td>asthma</td>\n",
       "      <td>25</td>\n",
       "      <td>1</td>\n",
       "      <td>3</td>\n",
       "      <td>0</td>\n",
       "      <td>2.5</td>\n",
       "      <td>0</td>\n",
       "      <td>1</td>\n",
       "      <td>1</td>\n",
       "      <td>0</td>\n",
       "      <td>1</td>\n",
       "      <td>0</td>\n",
       "      <td>1</td>\n",
       "      <td>0</td>\n",
       "      <td>1</td>\n",
       "      <td>1</td>\n",
       "      <td>1</td>\n",
       "      <td>0</td>\n",
       "    </tr>\n",
       "  </tbody>\n",
       "</table>\n",
       "</div>"
      ],
      "text/plain": [
       "       Disease  Age  Results  symptom_severity_score  severity_level  \\\n",
       "0    influenza   19        1                       3               0   \n",
       "1  common cold   25        0                       2               2   \n",
       "2       eczema   25        0                       2               2   \n",
       "3       asthma   25        1                       3               0   \n",
       "4       asthma   25        1                       3               0   \n",
       "\n",
       "   Risk_Score  Risk_Level  Fever_yes  Cough_yes  Fatigue_yes  \\\n",
       "0         1.9           0          1          0            1   \n",
       "1         2.5           0          0          1            1   \n",
       "2         2.5           0          0          1            1   \n",
       "3         2.5           0          1          1            0   \n",
       "4         2.5           0          1          1            0   \n",
       "\n",
       "   Difficulty Breathing_yes  Blood Pressure_low  Blood Pressure_normal  \\\n",
       "0                         1                   1                      0   \n",
       "1                         0                   0                      1   \n",
       "2                         0                   0                      1   \n",
       "3                         1                   0                      1   \n",
       "4                         1                   0                      1   \n",
       "\n",
       "   Cholesterol Level_low  Cholesterol Level_normal  Gender_male  \\\n",
       "0                      0                         1            0   \n",
       "1                      0                         1            0   \n",
       "2                      0                         1            0   \n",
       "3                      0                         1            1   \n",
       "4                      0                         1            1   \n",
       "\n",
       "   Age_Group_Adult  Age_Group_Senior  \n",
       "0                1                 0  \n",
       "1                1                 0  \n",
       "2                1                 0  \n",
       "3                1                 0  \n",
       "4                1                 0  "
      ]
     },
     "execution_count": 29,
     "metadata": {},
     "output_type": "execute_result"
    }
   ],
   "source": [
    "new_df.head()"
   ]
  },
  {
   "cell_type": "code",
   "execution_count": 30,
   "id": "d1f56bcc-4397-41c6-b758-5d50625ec1e6",
   "metadata": {},
   "outputs": [],
   "source": [
    "# Drop the Disease column\n",
    "\n",
    "new_df.drop('Disease',axis=1,inplace=True)"
   ]
  },
  {
   "cell_type": "code",
   "execution_count": 31,
   "id": "81b76e39-a5af-4638-a41e-451f66d968fd",
   "metadata": {},
   "outputs": [],
   "source": [
    "# Splitting data into training and testing sets\n",
    "X = new_df.drop(columns=[\"Results\"])\n",
    "y = new_df[\"Results\"]\n",
    "\n",
    "X_train, X_test, y_train, y_test = train_test_split(X, y, test_size=0.2, random_state=42, stratify=y)\n"
   ]
  },
  {
   "cell_type": "markdown",
   "id": "db6f6cef-6f02-40d9-96d2-c72e3d390144",
   "metadata": {},
   "source": [
    "**Scaling**"
   ]
  },
  {
   "cell_type": "code",
   "execution_count": 32,
   "id": "3b9989a9-c81c-4f8e-9bdc-027075eaff6a",
   "metadata": {},
   "outputs": [],
   "source": [
    "# Feature Scaling using MinMaxScaler \n",
    "scaler = MinMaxScaler()\n",
    "X_train[[\"Age\", \"symptom_severity_score\",\"Risk_Score\"]] = scaler.fit_transform(X_train[[\"Age\", \"symptom_severity_score\",\"Risk_Score\"]])"
   ]
  },
  {
   "cell_type": "code",
   "execution_count": 33,
   "id": "2488161d-f1db-4e7c-82e4-dff24a4a5d0e",
   "metadata": {},
   "outputs": [
    {
     "data": {
      "text/html": [
       "<div>\n",
       "<style scoped>\n",
       "    .dataframe tbody tr th:only-of-type {\n",
       "        vertical-align: middle;\n",
       "    }\n",
       "\n",
       "    .dataframe tbody tr th {\n",
       "        vertical-align: top;\n",
       "    }\n",
       "\n",
       "    .dataframe thead th {\n",
       "        text-align: right;\n",
       "    }\n",
       "</style>\n",
       "<table border=\"1\" class=\"dataframe\">\n",
       "  <thead>\n",
       "    <tr style=\"text-align: right;\">\n",
       "      <th></th>\n",
       "      <th>Age</th>\n",
       "      <th>symptom_severity_score</th>\n",
       "      <th>severity_level</th>\n",
       "      <th>Risk_Score</th>\n",
       "      <th>Risk_Level</th>\n",
       "      <th>Fever_yes</th>\n",
       "      <th>Cough_yes</th>\n",
       "      <th>Fatigue_yes</th>\n",
       "      <th>Difficulty Breathing_yes</th>\n",
       "      <th>Blood Pressure_low</th>\n",
       "      <th>Blood Pressure_normal</th>\n",
       "      <th>Cholesterol Level_low</th>\n",
       "      <th>Cholesterol Level_normal</th>\n",
       "      <th>Gender_male</th>\n",
       "      <th>Age_Group_Adult</th>\n",
       "      <th>Age_Group_Senior</th>\n",
       "    </tr>\n",
       "  </thead>\n",
       "  <tbody>\n",
       "    <tr>\n",
       "      <th>21</th>\n",
       "      <td>0.140845</td>\n",
       "      <td>0.75</td>\n",
       "      <td>0</td>\n",
       "      <td>0.140845</td>\n",
       "      <td>0</td>\n",
       "      <td>1</td>\n",
       "      <td>1</td>\n",
       "      <td>1</td>\n",
       "      <td>0</td>\n",
       "      <td>0</td>\n",
       "      <td>0</td>\n",
       "      <td>0</td>\n",
       "      <td>0</td>\n",
       "      <td>1</td>\n",
       "      <td>1</td>\n",
       "      <td>0</td>\n",
       "    </tr>\n",
       "    <tr>\n",
       "      <th>314</th>\n",
       "      <td>0.647887</td>\n",
       "      <td>0.75</td>\n",
       "      <td>0</td>\n",
       "      <td>0.647887</td>\n",
       "      <td>1</td>\n",
       "      <td>1</td>\n",
       "      <td>0</td>\n",
       "      <td>1</td>\n",
       "      <td>1</td>\n",
       "      <td>0</td>\n",
       "      <td>0</td>\n",
       "      <td>0</td>\n",
       "      <td>0</td>\n",
       "      <td>1</td>\n",
       "      <td>0</td>\n",
       "      <td>1</td>\n",
       "    </tr>\n",
       "    <tr>\n",
       "      <th>268</th>\n",
       "      <td>0.507042</td>\n",
       "      <td>0.50</td>\n",
       "      <td>2</td>\n",
       "      <td>0.507042</td>\n",
       "      <td>1</td>\n",
       "      <td>1</td>\n",
       "      <td>1</td>\n",
       "      <td>0</td>\n",
       "      <td>0</td>\n",
       "      <td>0</td>\n",
       "      <td>1</td>\n",
       "      <td>0</td>\n",
       "      <td>1</td>\n",
       "      <td>0</td>\n",
       "      <td>1</td>\n",
       "      <td>0</td>\n",
       "    </tr>\n",
       "    <tr>\n",
       "      <th>265</th>\n",
       "      <td>0.507042</td>\n",
       "      <td>0.50</td>\n",
       "      <td>2</td>\n",
       "      <td>0.507042</td>\n",
       "      <td>1</td>\n",
       "      <td>0</td>\n",
       "      <td>1</td>\n",
       "      <td>1</td>\n",
       "      <td>0</td>\n",
       "      <td>0</td>\n",
       "      <td>1</td>\n",
       "      <td>0</td>\n",
       "      <td>1</td>\n",
       "      <td>0</td>\n",
       "      <td>1</td>\n",
       "      <td>0</td>\n",
       "    </tr>\n",
       "    <tr>\n",
       "      <th>256</th>\n",
       "      <td>0.507042</td>\n",
       "      <td>0.25</td>\n",
       "      <td>1</td>\n",
       "      <td>0.507042</td>\n",
       "      <td>1</td>\n",
       "      <td>0</td>\n",
       "      <td>0</td>\n",
       "      <td>1</td>\n",
       "      <td>0</td>\n",
       "      <td>0</td>\n",
       "      <td>1</td>\n",
       "      <td>1</td>\n",
       "      <td>0</td>\n",
       "      <td>0</td>\n",
       "      <td>1</td>\n",
       "      <td>0</td>\n",
       "    </tr>\n",
       "  </tbody>\n",
       "</table>\n",
       "</div>"
      ],
      "text/plain": [
       "          Age  symptom_severity_score  severity_level  Risk_Score  Risk_Level  \\\n",
       "21   0.140845                    0.75               0    0.140845           0   \n",
       "314  0.647887                    0.75               0    0.647887           1   \n",
       "268  0.507042                    0.50               2    0.507042           1   \n",
       "265  0.507042                    0.50               2    0.507042           1   \n",
       "256  0.507042                    0.25               1    0.507042           1   \n",
       "\n",
       "     Fever_yes  Cough_yes  Fatigue_yes  Difficulty Breathing_yes  \\\n",
       "21           1          1            1                         0   \n",
       "314          1          0            1                         1   \n",
       "268          1          1            0                         0   \n",
       "265          0          1            1                         0   \n",
       "256          0          0            1                         0   \n",
       "\n",
       "     Blood Pressure_low  Blood Pressure_normal  Cholesterol Level_low  \\\n",
       "21                    0                      0                      0   \n",
       "314                   0                      0                      0   \n",
       "268                   0                      1                      0   \n",
       "265                   0                      1                      0   \n",
       "256                   0                      1                      1   \n",
       "\n",
       "     Cholesterol Level_normal  Gender_male  Age_Group_Adult  Age_Group_Senior  \n",
       "21                          0            1                1                 0  \n",
       "314                         0            1                0                 1  \n",
       "268                         1            0                1                 0  \n",
       "265                         1            0                1                 0  \n",
       "256                         0            0                1                 0  "
      ]
     },
     "execution_count": 33,
     "metadata": {},
     "output_type": "execute_result"
    }
   ],
   "source": [
    "X_train.head()"
   ]
  },
  {
   "cell_type": "code",
   "execution_count": null,
   "id": "58aaa7c5-3e1d-4d2d-a5b1-ef9d3aa288c2",
   "metadata": {},
   "outputs": [],
   "source": []
  },
  {
   "cell_type": "markdown",
   "id": "48b0aa85-bf25-4538-bb8e-64d8998d175f",
   "metadata": {},
   "source": [
    "**Model Building**"
   ]
  },
  {
   "cell_type": "code",
   "execution_count": 42,
   "id": "7798002a-ab32-45d2-b208-d922c4abdaa2",
   "metadata": {},
   "outputs": [],
   "source": [
    "# Import libraries\n",
    "\n",
    "from sklearn.ensemble import RandomForestClassifier, GradientBoostingClassifier, AdaBoostClassifier\n",
    "from sklearn.linear_model import LogisticRegression\n",
    "from sklearn.svm import SVC\n",
    "from sklearn.neighbors import KNeighborsClassifier\n",
    "from sklearn.tree import DecisionTreeClassifier\n",
    "from sklearn.metrics import accuracy_score, classification_report, confusion_matrix\n"
   ]
  },
  {
   "cell_type": "code",
   "execution_count": 43,
   "id": "aa2094b7-19c9-4341-b477-3b119cc95603",
   "metadata": {},
   "outputs": [],
   "source": [
    "# Model Selection and Evaluation\n",
    "\n",
    "models = {\n",
    "    \"Logistic Regression\": LogisticRegression(),\n",
    "    \"Decision Tree\": DecisionTreeClassifier(),\n",
    "    \"Random Forest\": RandomForestClassifier(),\n",
    "    \"Gradient Boosting\": GradientBoostingClassifier(),\n",
    "    \"SVM\": SVC(),\n",
    "    \"K-Nearest Neighbors\": KNeighborsClassifier(),\n",
    "    \"AdaBoost\": AdaBoostClassifier()\n",
    "}\n",
    "\n"
   ]
  },
  {
   "cell_type": "code",
   "execution_count": 58,
   "id": "8ffe2c55-b027-4d21-85a2-e758e4a2b8c0",
   "metadata": {},
   "outputs": [
    {
     "name": "stderr",
     "output_type": "stream",
     "text": [
      "C:\\Users\\DELL\\AppData\\Local\\Programs\\Python\\Python313\\Lib\\site-packages\\sklearn\\ensemble\\_weight_boosting.py:527: FutureWarning: The SAMME.R algorithm (the default) is deprecated and will be removed in 1.6. Use the SAMME algorithm to circumvent this warning.\n",
      "  warnings.warn(\n"
     ]
    }
   ],
   "source": [
    "# Train models and store accuracy\n",
    "\n",
    "results = {}\n",
    "for name, model in models.items():\n",
    "    model.fit(X_train, y_train)\n",
    "    y_pred = model.predict(X_test)\n",
    "    accuracy = accuracy_score(y_test, y_pred)\n",
    "    results[name] = accuracy\n"
   ]
  },
  {
   "cell_type": "code",
   "execution_count": 59,
   "id": "b5190d1f-c919-4887-963a-45b19a89ca2b",
   "metadata": {},
   "outputs": [
    {
     "name": "stdout",
     "output_type": "stream",
     "text": [
      "{'Logistic Regression': 0.5285714285714286, 'Decision Tree': 0.5857142857142857, 'Random Forest': 0.7428571428571429, 'Gradient Boosting': 0.5571428571428572, 'SVM': 0.4714285714285714, 'K-Nearest Neighbors': 0.5285714285714286, 'AdaBoost': 0.5285714285714286}\n"
     ]
    }
   ],
   "source": [
    "print(results)"
   ]
  },
  {
   "cell_type": "code",
   "execution_count": 61,
   "id": "e635c0d9-5a86-4c94-b7e8-39f3c2db7c81",
   "metadata": {},
   "outputs": [
    {
     "name": "stdout",
     "output_type": "stream",
     "text": [
      "Best Model is Random Forest with Accuracy: 0.7429\n"
     ]
    }
   ],
   "source": [
    "# Identify the best model\n",
    "\n",
    "best_model_name = max(results, key=results.get)\n",
    "best_model = models[best_model_name]\n",
    "print(f\"Best Model is {best_model_name} with Accuracy: {results[best_model_name]:.4f}\")\n"
   ]
  },
  {
   "cell_type": "code",
   "execution_count": 62,
   "id": "77660808-3efc-43a8-b4fb-ba51866b5f4c",
   "metadata": {},
   "outputs": [
    {
     "name": "stdout",
     "output_type": "stream",
     "text": [
      "\n",
      "Applying Hyperparameter Tuning on Random Forest...\n",
      "Best Tuned Random Forest Model: RandomForestClassifier(max_depth=20, n_estimators=200, random_state=42) with Accuracy: 0.8316\n"
     ]
    }
   ],
   "source": [
    "#  Tuning the model\n",
    "\n",
    "print(\"\\nApplying Hyperparameter Tuning on Random Forest...\")\n",
    "rf_param_grid = {\n",
    "    'n_estimators': [100, 200, 300],\n",
    "    'max_depth': [10, 20, None],\n",
    "    'min_samples_split': [2, 5, 10],\n",
    "    'min_samples_leaf': [1, 2, 4]\n",
    "}\n",
    "\n",
    "grid_search_rf = GridSearchCV(RandomForestClassifier(random_state=42), rf_param_grid, cv=5, scoring='accuracy', n_jobs=-1)\n",
    "grid_search_rf.fit(X_train, y_train)\n",
    "best_rf_model = grid_search_rf.best_estimator_\n",
    "\n",
    "print(f\"Best Tuned Random Forest Model: with Accuracy: {grid_search_rf.best_score_:.4f}\")\n"
   ]
  },
  {
   "cell_type": "code",
   "execution_count": 63,
   "id": "ce4892c0-14d5-44f9-ad54-39fe6c2a7266",
   "metadata": {},
   "outputs": [
    {
     "name": "stdout",
     "output_type": "stream",
     "text": [
      "\n",
      "Confusion Matrix:\n",
      "[[15 18]\n",
      " [ 0 37]]\n"
     ]
    },
    {
     "data": {
      "image/png": "[encoded data removed]",
      "text/plain": [
       "<Figure size 640x480 with 2 Axes>"
      ]
     },
     "metadata": {},
     "output_type": "display_data"
    }
   ],
   "source": [
    "# Confusion Matrix \n",
    "\n",
    "print(\"\\nConfusion Matrix:\")\n",
    "y_pred_best_rf = best_rf_model.predict(X_test)\n",
    "conf_matrix_rf = confusion_matrix(y_test, y_pred_best_rf)\n",
    "print(conf_matrix_rf)\n",
    "sns.heatmap(conf_matrix_rf, annot=True, fmt='d', cmap='Blues')\n",
    "plt.xlabel('Predicted Label')\n",
    "plt.ylabel('True Label')\n",
    "plt.title('Confusion Matrix - Random Forest')\n",
    "plt.show()\n"
   ]
  },
  {
   "cell_type": "markdown",
   "id": "150547b2-2527-4fa2-9b23-ed2b2777278c",
   "metadata": {},
   "source": [
    "Key Observations:\n",
    "\n",
    "Low False Negatives → Ensures no critical cases are missed.\n",
    "\n",
    "Higher False Positives → Could lead to unnecessary tests but prioritizes patient safety.\n",
    "\n",
    "Balanced Performance → Strong generalization capability."
   ]
  },
  {
   "cell_type": "code",
   "execution_count": null,
   "id": "cb001c16-622d-4732-aa41-2b39d40587ed",
   "metadata": {},
   "outputs": [],
   "source": []
  }
 ],
 "metadata": {
  "kernelspec": {
   "display_name": "Python 3 (ipykernel)",
   "language": "python",
   "name": "python3"
  },
  "language_info": {
   "codemirror_mode": {
    "name": "ipython",
    "version": 3
   },
   "file_extension": ".py",
   "mimetype": "text/x-python",
   "name": "python",
   "nbconvert_exporter": "python",
   "pygments_lexer": "ipython3",
   "version": "3.13.1"
  }
 },
 "nbformat": 4,
 "nbformat_minor": 5
}
